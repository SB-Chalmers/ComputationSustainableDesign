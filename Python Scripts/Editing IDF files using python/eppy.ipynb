{
 "cells": [
  {
   "cell_type": "code",
   "execution_count": 27,
   "metadata": {},
   "outputs": [],
   "source": [
    "from eppy import modeleditor\n",
    "from eppy.modeleditor import IDF"
   ]
  },
  {
   "cell_type": "code",
   "execution_count": 28,
   "metadata": {},
   "outputs": [],
   "source": [
    "# Path to idf\n",
    "IDF_PATH = 'box_clean.idf'\n",
    "IDD_PATH = 'Energy+.idd'\n",
    "# Load IDF file in eppy\n",
    "IDF.setiddname(IDD_PATH)\n",
    "idf1 = IDF(IDF_PATH)"
   ]
  },
  {
   "cell_type": "code",
   "execution_count": 29,
   "metadata": {},
   "outputs": [],
   "source": [
    "wind_pressure_coefficient_array = idf1.newidfobject(\"AirflowNetwork:MultiZone:WindPressureCoefficientArray\",\n",
    "                               Name=\"Cp Data\",\n",
    "                               Wind_Direction_1 = 0,\n",
    "                               Wind_Direction_2 = 45,\n",
    "                               Wind_Direction_3 = 90,\n",
    "                               Wind_Direction_4 = 135,\n",
    "                               Wind_Direction_5 = 180,\n",
    "                               Wind_Direction_6 = 225,\n",
    "                               Wind_Direction_7 = 270,\n",
    "                               Wind_Direction_8 = 315)"
   ]
  },
  {
   "cell_type": "code",
   "execution_count": 30,
   "metadata": {},
   "outputs": [],
   "source": [
    "CP_values = [-0.6,-0.5,-0.4,-0.5,-0.6,-0.5,-0.4,-0.5]\n",
    "building_objects = idf1.idfobjects['BUILDINGSURFACE:DETAILED']"
   ]
  },
  {
   "cell_type": "code",
   "execution_count": 31,
   "metadata": {},
   "outputs": [
    {
     "data": {
      "text/plain": [
       "'Ground'"
      ]
     },
     "execution_count": 31,
     "metadata": {},
     "output_type": "execute_result"
    }
   ],
   "source": [
    "building_objects[0].Outside_Boundary_Condition"
   ]
  },
  {
   "cell_type": "code",
   "execution_count": 32,
   "metadata": {},
   "outputs": [
    {
     "name": "stdout",
     "output_type": "stream",
     "text": [
      "Adding wind pressure coefficients for Block1:Zone1_Roof_1_0_0\n",
      "Adding wind pressure coefficients for Block1:Zone1_Wall_2_0_0\n",
      "Adding wind pressure coefficients for Block1:Zone1_Wall_3_0_0\n",
      "Adding wind pressure coefficients for Block1:Zone1_Wall_4_0_0\n",
      "Adding wind pressure coefficients for Block1:Zone1_Wall_5_0_0\n"
     ]
    }
   ],
   "source": [
    "for surface in building_objects:\n",
    "    if surface.Outside_Boundary_Condition == 'Outdoors':\n",
    "        print(f'Adding wind pressure coefficients for {surface.Name}')\n",
    "        idf1.newidfobject(\"AirflowNetwork:MultiZone:WindPressureCoefficientValues\",\n",
    "                          Name=surface.Name,\n",
    "                          AirflowNetworkMultiZoneWindPressureCoefficientArray_Name = wind_pressure_coefficient_array.Name,\n",
    "                          Wind_Pressure_Coefficient_Value_1 = CP_values[0],\n",
    "                          Wind_Pressure_Coefficient_Value_2 = CP_values[1],\n",
    "                          Wind_Pressure_Coefficient_Value_3 = CP_values[2],\n",
    "                          Wind_Pressure_Coefficient_Value_4 = CP_values[3],\n",
    "                          Wind_Pressure_Coefficient_Value_5 = CP_values[4],\n",
    "                          Wind_Pressure_Coefficient_Value_6 = CP_values[5],\n",
    "                          Wind_Pressure_Coefficient_Value_7 = CP_values[6],\n",
    "                          Wind_Pressure_Coefficient_Value_8 = CP_values[7])"
   ]
  },
  {
   "cell_type": "code",
   "execution_count": 33,
   "metadata": {},
   "outputs": [
    {
     "data": {
      "text/plain": [
       "\n",
       "AIRFLOWNETWORK:MULTIZONE:WINDPRESSURECOEFFICIENTVALUES,\n",
       "    Block1:Zone1_Roof_1_0_0,    !- Name\n",
       "    Cp Data,                  !- AirflowNetworkMultiZoneWindPressureCoefficientArray Name\n",
       "    -0.6,                     !- Wind Pressure Coefficient Value 1\n",
       "    -0.5,                     !- Wind Pressure Coefficient Value 2\n",
       "    -0.4,                     !- Wind Pressure Coefficient Value 3\n",
       "    -0.5,                     !- Wind Pressure Coefficient Value 4\n",
       "    -0.6,                     !- Wind Pressure Coefficient Value 5\n",
       "    -0.5,                     !- Wind Pressure Coefficient Value 6\n",
       "    -0.4,                     !- Wind Pressure Coefficient Value 7\n",
       "    -0.5;                     !- Wind Pressure Coefficient Value 8"
      ]
     },
     "execution_count": 33,
     "metadata": {},
     "output_type": "execute_result"
    }
   ],
   "source": [
    "idf1.idfobjects['AirflowNetwork:MultiZone:WindPressureCoefficientValues'][0]"
   ]
  },
  {
   "cell_type": "code",
   "execution_count": 34,
   "metadata": {},
   "outputs": [],
   "source": [
    "idf1.saveas('box_clean_with_cp.idf')"
   ]
  }
 ],
 "metadata": {
  "kernelspec": {
   "display_name": "OSMnx",
   "language": "python",
   "name": "python3"
  },
  "language_info": {
   "codemirror_mode": {
    "name": "ipython",
    "version": 3
   },
   "file_extension": ".py",
   "mimetype": "text/x-python",
   "name": "python",
   "nbconvert_exporter": "python",
   "pygments_lexer": "ipython3",
   "version": "3.8.8"
  },
  "orig_nbformat": 4
 },
 "nbformat": 4,
 "nbformat_minor": 2
}
