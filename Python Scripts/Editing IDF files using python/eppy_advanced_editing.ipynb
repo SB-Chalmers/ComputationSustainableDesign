{
 "cells": [
  {
   "cell_type": "markdown",
   "metadata": {},
   "source": [
    "Adding Wind Pressure Coefficients to Surfaces in an E+ IDF File using Python\n",
    "==================================================================================================\n",
    "\n",
    "Introduction\n",
    "------------\n",
    "\n",
    "In this tutorial, we will walk you through a Python script designed to add wind pressure coefficients to surfaces in an EnergyPlus IDF file. This can be particularly useful when you're modelling airflow and want to understand how the building's geometry interacts with the wind.\n",
    "\n",
    "Prerequisites\n",
    "-------------\n",
    "\n",
    "Before we begin, ensure you have the following:\n",
    "\n",
    "1.  Basic knowledge of Python.\n",
    "2.  EnergyPlus and the `Energy+.idd` file.\n",
    "3.  Python's EPPY library installed. If not, you can install it using pip: `pip install eppy`.\n",
    "\n",
    "\n",
    "The `Energy+.idd` file, often simply referred to as the IDD, is the Input Data Dictionary for EnergyPlus. This file defines all the objects and fields that an IDF (Input Data File) will have. The IDD is crucial for software and scripts (like the one using EPPY in your previous query) to understand the structure of an IDF.\n",
    "\n",
    "Here's how you can find the `Energy+.idd` file:\n",
    "\n",
    "1.  Installation Directory: When you install EnergyPlus, the IDD is usually placed in the main installation directory of EnergyPlus.\n",
    "\n",
    "    For example, on a Windows system, if you've installed EnergyPlus 9.3, the path might be something like:\n",
    "\n",
    "    makefileCopy code\n",
    "\n",
    "    `C:\\EnergyPlusV9-3-0\\EnergyPlusIDD.idd`\n",
    "\n",
    "    On Linux, it might be under `/usr/local/EnergyPlus-9-3-0/` or a similar location, depending on how you've installed it.\n",
    "\n",
    "    On macOS, if you've installed EnergyPlus using the installer package, the path might be:\n",
    "\n",
    "    Copy code\n",
    "\n",
    "    `/Applications/EnergyPlus-9-3-0/`\n",
    "\n",
    "2.  EnergyPlus Toolkits: Some toolkits or GUI-based applications that work with EnergyPlus might keep their own copy of the IDD. If you're using such a toolkit, you might find the IDD in its directories.\n",
    "\n",
    "3.  Search Your System: If you're unsure where EnergyPlus was installed, you can use system search functions:\n",
    "\n",
    "    -   On Windows, you can use the search bar in the File Explorer.\n",
    "    -   On Linux, you can use commands like `find` or `locate` (if `updatedb` has been run previously).\n",
    "    -   On macOS, you can use Spotlight or Finder.\n",
    "4.  Check Documentation: The EnergyPlus documentation might provide information on the installation directory, which can guide you to the location of the IDD.\n",
    "\n",
    "When referencing the IDD in scripts or software, it's good practice to always point to the version of the IDD that matches the version of your EnergyPlus IDF files. This ensures compatibility and that all objects and fields are recognized correctly.\n",
    "\n",
    "\n",
    "\n",
    "The Script\n",
    "----------\n",
    "\n",
    "The script you'll be working with uses the EPPY library to interact with EnergyPlus IDF files. We'll start by importing necessary modules, setting paths, and then diving into the core logic of the script."
   ]
  },
  {
   "cell_type": "code",
   "execution_count": 49,
   "metadata": {},
   "outputs": [],
   "source": [
    "# Importing necessary libraries\n",
    "from eppy import modeleditor\n",
    "from eppy.modeleditor import IDF\n",
    "\n",
    "# Define paths\n",
    "IDF_PATH = 'data/box_clean.idf'  # This is your EnergyPlus IDF file.\n",
    "IDD_PATH = 'idd/Energy+.idd'    # This file defines all the objects and fields that an IDF will have. It is distributed with EnergyPlus.\n",
    "\n",
    "# Load the IDF file using EPPY\n",
    "IDF.setiddname(IDD_PATH)    # Setting the IDD file so EPPY knows how to read the IDF file.\n",
    "idf1 = IDF(IDF_PATH)\n"
   ]
  },
  {
   "cell_type": "code",
   "execution_count": 50,
   "metadata": {},
   "outputs": [
    {
     "data": {
      "text/plain": [
       "\n",
       "AirflowNetwork:MultiZone:Component:DetailedOpening,\n",
       "    Block1:Zone1_Wall_2_0_0_0_0_0_Win,    !- Name\n",
       "    0.00014,                  !- Air Mass Flow Coefficient When Opening is Closed\n",
       "    0.65,                     !- Air Mass Flow Exponent When Opening is Closed\n",
       "    NonPivoted,               !- Type of Rectangular Large Vertical Opening LVO\n",
       "    0,                        !- Extra Crack Length or Height of Pivoting Axis\n",
       "    2,                        !- Number of Sets of Opening Factor Data\n",
       "    0,                        !- Opening Factor 1\n",
       "    0.65,                     !- Discharge Coefficient for Opening Factor 1\n",
       "    0,                        !- Width Factor for Opening Factor 1\n",
       "    0,                        !- Height Factor for Opening Factor 1\n",
       "    0,                        !- Start Height Factor for Opening Factor 1\n",
       "    1,                        !- Opening Factor 2\n",
       "    0.65,                     !- Discharge Coefficient for Opening Factor 2\n",
       "    1e-08,                    !- Width Factor for Opening Factor 2\n",
       "    1,                        !- Height Factor for Opening Factor 2\n",
       "    0,                        !- Start Height Factor for Opening Factor 2\n",
       "    0,                        !- Opening Factor 3\n",
       "    0,                        !- Discharge Coefficient for Opening Factor 3\n",
       "    0,                        !- Width Factor for Opening Factor 3\n",
       "    0,                        !- Height Factor for Opening Factor 3\n",
       "    0,                        !- Start Height Factor for Opening Factor 3\n",
       "    0,                        !- Opening Factor 4\n",
       "    0,                        !- Discharge Coefficient for Opening Factor 4\n",
       "    0,                        !- Width Factor for Opening Factor 4\n",
       "    0,                        !- Height Factor for Opening Factor 4\n",
       "    0;                        !- Start Height Factor for Opening Factor 4"
      ]
     },
     "execution_count": 50,
     "metadata": {},
     "output_type": "execute_result"
    }
   ],
   "source": [
    "REF_IDF_PATH = 'box22_reference.idf'  # This is your EnergyPlus IDF file.\n",
    "idf_ref = IDF(REF_IDF_PATH)\n",
    "Airflownetwork_Multizone_Component_Detailedopening = idf_ref.idfobjects['AirflowNetwork:MultiZone:Component:DetailedOpening'][0]\n",
    "\n",
    "Airflownetwork_Multizone_Component_Detailedopening"
   ]
  },
  {
   "cell_type": "markdown",
   "metadata": {},
   "source": [
    "Note: Ensure both `box_clean.idf` and `Energy+.idd` are in the current working directory or provide the full path to the files.\n",
    "\n",
    "### Wind Pressure Coefficient Array\n",
    "\n",
    "The first step is to define the wind direction and its corresponding coefficient. This is crucial to understand how wind affects different surfaces at various angles."
   ]
  },
  {
   "cell_type": "code",
   "execution_count": 51,
   "metadata": {},
   "outputs": [],
   "source": [
    "wind_pressure_coefficient_array = idf1.newidfobject(\"AirflowNetwork:MultiZone:WindPressureCoefficientArray\",\n",
    "                               Name=\"Cp Data\",\n",
    "                               Wind_Direction_1 = 0,\n",
    "                               Wind_Direction_2 = 45,\n",
    "                               Wind_Direction_3 = 90,\n",
    "                               Wind_Direction_4 = 135,\n",
    "                               Wind_Direction_5 = 180,\n",
    "                               Wind_Direction_6 = 225,\n",
    "                               Wind_Direction_7 = 270,\n",
    "                               Wind_Direction_8 = 315)"
   ]
  },
  {
   "cell_type": "markdown",
   "metadata": {},
   "source": [
    "Here, we're setting up a new `AirflowNetwork:MultiZone:WindPressureCoefficientArray` object which describes how the wind pressure coefficient (Cp) varies with wind direction.\n",
    "\n",
    "### Sample cp values\n",
    "\n",
    "These are sample Cp values for each wind direction. For this tutorial, we are using a predefined set. In a real-world scenario, these values might be derived from wind tunnel testing or CFD simulations."
   ]
  },
  {
   "cell_type": "code",
   "execution_count": 52,
   "metadata": {},
   "outputs": [],
   "source": [
    "# Sample cp values\n",
    "CP_values = [-0.6,-0.5,-0.4,-0.5,-0.6,-0.5,-0.4,-0.5]\n",
    "building_objects = idf1.idfobjects['BUILDINGSURFACE:DETAILED']\n",
    "fenestration_objects = idf1.idfobjects['FENESTRATIONSURFACE:DETAILED']"
   ]
  },
  {
   "cell_type": "markdown",
   "metadata": {},
   "source": [
    "### Adding Cp values to Building Surfaces\n",
    "\n",
    "Now, we'll loop through each building surface in the IDF. For every surface exposed to the outdoors, we'll assign the Cp values:"
   ]
  },
  {
   "cell_type": "code",
   "execution_count": 53,
   "metadata": {},
   "outputs": [
    {
     "name": "stdout",
     "output_type": "stream",
     "text": [
      "Adding detailed opening settings for Block1:Zone1_Wall_2_0_0_0_0_0_Win\n",
      "Adding detailed opening settings for Block1:Zone1_Wall_3_0_0_0_0_0_Win\n",
      "Adding detailed opening settings for Block1:Zone1_Wall_4_0_0_0_0_0_Win\n",
      "Adding detailed opening settings for Block1:Zone1_Wall_5_0_0_0_0_0_Win\n"
     ]
    }
   ],
   "source": [
    "import copy\n",
    "node_height = 6.5 # Placeholder\n",
    "opening_array = []\n",
    "for surface in fenestration_objects:\n",
    "    if surface.View_Factor_to_Ground!=0:\n",
    "        #print(f'Adding wind pressure coefficients for {surface.Name}')\n",
    "        idf1.newidfobject(\"AirflowNetwork:MultiZone:WindPressureCoefficientValues\",\n",
    "                          Name=surface.Name,\n",
    "                          AirflowNetworkMultiZoneWindPressureCoefficientArray_Name = wind_pressure_coefficient_array.Name,\n",
    "                          Wind_Pressure_Coefficient_Value_1 = CP_values[0],\n",
    "                          Wind_Pressure_Coefficient_Value_2 = CP_values[1],\n",
    "                          Wind_Pressure_Coefficient_Value_3 = CP_values[2],\n",
    "                          Wind_Pressure_Coefficient_Value_4 = CP_values[3],\n",
    "                          Wind_Pressure_Coefficient_Value_5 = CP_values[4],\n",
    "                          Wind_Pressure_Coefficient_Value_6 = CP_values[5],\n",
    "                          Wind_Pressure_Coefficient_Value_7 = CP_values[6],\n",
    "                          Wind_Pressure_Coefficient_Value_8 = CP_values[7])\n",
    "        #print(f'Adding external node for {surface.Name}')\n",
    "        idf1.newidfobject(\"AirflowNetwork:MultiZone:ExternalNode\",\n",
    "                            Name=surface.Name + '.EN', # Don't know why this is .EN\n",
    "                            External_Node_Height = node_height,\n",
    "                            Wind_Pressure_Coefficient_Curve_Name = surface.Name,\n",
    "                            Symmetric_Wind_Pressure_Coefficient_Curve = 'No',\n",
    "                            Wind_Angle_Type = 'Absolute')\n",
    "        print(f'Adding detailed opening settings for {surface.Name}')\n",
    "        new_detailed_opening = idf1.newidfobject(\"AirflowNetwork:MultiZone:Component:DetailedOpening\")\n",
    "        \n",
    "        # Set properties for the DetailedOpening object:\n",
    "        new_detailed_opening.Name = surface.Name\n",
    "        new_detailed_opening.Air_Mass_Flow_Coefficient_When_Opening_is_Closed = 0.00014\n",
    "        new_detailed_opening.Air_Mass_Flow_Exponent_When_Opening_is_Closed = 0.65\n",
    "        new_detailed_opening.Type_of_Rectangular_Large_Vertical_Opening_LVO = \"NonPivoted\"\n",
    "        new_detailed_opening.Extra_Crack_Length_or_Height_of_Pivoting_Axis = 0\n",
    "        new_detailed_opening.Number_of_Sets_of_Opening_Factor_Data = 2\n",
    "\n",
    "        # Opening Factor 1 properties\n",
    "        new_detailed_opening.Opening_Factor_1 = 0\n",
    "        new_detailed_opening.Discharge_Coefficient_for_Opening_Factor_1 = 0.65\n",
    "        new_detailed_opening.Width_Factor_for_Opening_Factor_1 = 0\n",
    "        new_detailed_opening.Height_Factor_for_Opening_Factor_1 = 0\n",
    "        new_detailed_opening.Start_Height_Factor_for_Opening_Factor_1 = 0\n",
    "\n",
    "        # Opening Factor 2 properties\n",
    "        new_detailed_opening.Opening_Factor_2 = 1\n",
    "        new_detailed_opening.Discharge_Coefficient_for_Opening_Factor_2 = 0.65\n",
    "        new_detailed_opening.Width_Factor_for_Opening_Factor_2 = 1e-08\n",
    "        new_detailed_opening.Height_Factor_for_Opening_Factor_2 = 1\n",
    "        new_detailed_opening.Start_Height_Factor_for_Opening_Factor_2 = 0\n",
    "\n",
    "        # Opening Factor 3 properties\n",
    "        new_detailed_opening.Opening_Factor_3 = 0\n",
    "        new_detailed_opening.Discharge_Coefficient_for_Opening_Factor_3 = 0\n",
    "        new_detailed_opening.Width_Factor_for_Opening_Factor_3 = 0\n",
    "        new_detailed_opening.Height_Factor_for_Opening_Factor_3 = 0\n",
    "        new_detailed_opening.Start_Height_Factor_for_Opening_Factor_3 = 0\n",
    "\n",
    "        # Opening Factor 4 properties\n",
    "        new_detailed_opening.Opening_Factor_4 = 0\n",
    "        new_detailed_opening.Discharge_Coefficient_for_Opening_Factor_4 = 0\n",
    "        new_detailed_opening.Width_Factor_for_Opening_Factor_4 = 0\n",
    "        new_detailed_opening.Height_Factor_for_Opening_Factor_4 = 0\n",
    "        new_detailed_opening.Start_Height_Factor_for_Opening_Factor_4 = 0\n",
    "\n",
    "        opening_array.append(new_detailed_opening)\n",
    "\n",
    "idf1.idfobjects[\"AirflowNetwork:MultiZone:Component:DetailedOpening\"] = opening_array\n",
    "                            \n"
   ]
  },
  {
   "cell_type": "code",
   "execution_count": 54,
   "metadata": {},
   "outputs": [
    {
     "data": {
      "text/plain": [
       "\n",
       "OUTPUT:SQLITE,\n",
       "    Simple,                   !- Option Type\n",
       "    JtoKWH;                   !- Unit Conversion for Tabular Data"
      ]
     },
     "execution_count": 54,
     "metadata": {},
     "output_type": "execute_result"
    }
   ],
   "source": [
    "idf1.newidfobject(\"Output:SQLite\",\n",
    "                  Option_Type = \"Simple\",\n",
    "                  Unit_Conversion_for_Tabular_Data = \"JtoKWH\")\n",
    "                  "
   ]
  },
  {
   "cell_type": "markdown",
   "metadata": {},
   "source": [
    "Here, we're checking each building surface to see if its boundary condition is set to 'Outdoors'. If so, we're adding the Cp values to it.\n",
    "\n",
    "### Save Changes\n",
    "\n",
    "Finally, let's save our modified IDF:"
   ]
  },
  {
   "cell_type": "code",
   "execution_count": 55,
   "metadata": {},
   "outputs": [],
   "source": [
    "idf1.saveas('box_clean_with_cp.idf')"
   ]
  },
  {
   "cell_type": "markdown",
   "metadata": {},
   "source": [
    "This command will save the modified IDF as 'box_clean_with_cp.idf'. You can now run this new IDF in EnergyPlus to get the effects of the wind pressure coefficients.\n",
    "\n",
    "Conclusion\n",
    "You've now successfully added wind pressure coefficients to the surfaces in an E+ IDF file. This script can be adapted and expanded upon based on the specific requirements of your EnergyPlus models. Happy coding and modelling!"
   ]
  }
 ],
 "metadata": {
  "kernelspec": {
   "display_name": "OSMnx",
   "language": "python",
   "name": "python3"
  },
  "language_info": {
   "codemirror_mode": {
    "name": "ipython",
    "version": 3
   },
   "file_extension": ".py",
   "mimetype": "text/x-python",
   "name": "python",
   "nbconvert_exporter": "python",
   "pygments_lexer": "ipython3",
   "version": "3.8.8"
  },
  "orig_nbformat": 4
 },
 "nbformat": 4,
 "nbformat_minor": 2
}
