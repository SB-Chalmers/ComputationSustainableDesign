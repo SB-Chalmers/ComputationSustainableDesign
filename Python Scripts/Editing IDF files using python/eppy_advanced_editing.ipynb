{
 "cells": [
  {
   "cell_type": "markdown",
   "metadata": {},
   "source": [
    "Adding Wind Pressure Coefficients to Surfaces in an E+ IDF File using Python\n",
    "==================================================================================================\n",
    "\n",
    "Introduction\n",
    "------------\n",
    "\n",
    "In this tutorial, we will walk you through a Python script designed to add wind pressure coefficients to surfaces in an EnergyPlus IDF file. This can be particularly useful when you're modelling airflow and want to understand how the building's geometry interacts with the wind.\n",
    "\n",
    "Prerequisites\n",
    "-------------\n",
    "\n",
    "Before we begin, ensure you have the following:\n",
    "\n",
    "1.  Basic knowledge of Python.\n",
    "2.  EnergyPlus and the `Energy+.idd` file.\n",
    "3.  Python's EPPY library installed. If not, you can install it using pip: `pip install eppy`.\n",
    "\n",
    "\n",
    "The `Energy+.idd` file, often simply referred to as the IDD, is the Input Data Dictionary for EnergyPlus. This file defines all the objects and fields that an IDF (Input Data File) will have. The IDD is crucial for software and scripts (like the one using EPPY in your previous query) to understand the structure of an IDF.\n",
    "\n",
    "Here's how you can find the `Energy+.idd` file:\n",
    "\n",
    "1.  Installation Directory: When you install EnergyPlus, the IDD is usually placed in the main installation directory of EnergyPlus.\n",
    "\n",
    "    For example, on a Windows system, if you've installed EnergyPlus 9.3, the path might be something like:\n",
    "\n",
    "    makefileCopy code\n",
    "\n",
    "    `C:\\EnergyPlusV9-3-0\\EnergyPlusIDD.idd`\n",
    "\n",
    "    On Linux, it might be under `/usr/local/EnergyPlus-9-3-0/` or a similar location, depending on how you've installed it.\n",
    "\n",
    "    On macOS, if you've installed EnergyPlus using the installer package, the path might be:\n",
    "\n",
    "    Copy code\n",
    "\n",
    "    `/Applications/EnergyPlus-9-3-0/`\n",
    "\n",
    "2.  EnergyPlus Toolkits: Some toolkits or GUI-based applications that work with EnergyPlus might keep their own copy of the IDD. If you're using such a toolkit, you might find the IDD in its directories.\n",
    "\n",
    "3.  Search Your System: If you're unsure where EnergyPlus was installed, you can use system search functions:\n",
    "\n",
    "    -   On Windows, you can use the search bar in the File Explorer.\n",
    "    -   On Linux, you can use commands like `find` or `locate` (if `updatedb` has been run previously).\n",
    "    -   On macOS, you can use Spotlight or Finder.\n",
    "4.  Check Documentation: The EnergyPlus documentation might provide information on the installation directory, which can guide you to the location of the IDD.\n",
    "\n",
    "When referencing the IDD in scripts or software, it's good practice to always point to the version of the IDD that matches the version of your EnergyPlus IDF files. This ensures compatibility and that all objects and fields are recognized correctly.\n",
    "\n",
    "\n",
    "\n",
    "The Script\n",
    "----------\n",
    "\n",
    "The script you'll be working with uses the EPPY library to interact with EnergyPlus IDF files. We'll start by importing necessary modules, setting paths, and then diving into the core logic of the script."
   ]
  },
  {
   "cell_type": "code",
   "execution_count": 1,
   "metadata": {},
   "outputs": [],
   "source": [
    "from update_cp import *"
   ]
  },
  {
   "cell_type": "code",
   "execution_count": 2,
   "metadata": {},
   "outputs": [],
   "source": [
    "# Set up logging\n",
    "logging.basicConfig(level=logging.INFO)\n",
    "logger = logging.getLogger('Adding CP Values to IDF')\n",
    "\n",
    "# Constants\n",
    "IDF_PATH = 'data/in.idf'\n",
    "IDD_PATH = 'idd/Energy+_22_2_0.idd'\n",
    "CP_PATH = 'data/Cp.csv'"
   ]
  },
  {
   "cell_type": "code",
   "execution_count": 4,
   "metadata": {},
   "outputs": [
    {
     "name": "stderr",
     "output_type": "stream",
     "text": [
      "INFO:Adding CP Values to IDF:Checking paths\n",
      "INFO:Adding CP Values to IDF:All paths are valid\n",
      "INFO:Adding CP Values to IDF:Setting IDD file to idd/Energy+_22_2_0.idd\n",
      "INFO:Adding CP Values to IDF:Loading IDF file from data/in.idf\n",
      "INFO:Adding CP Values to IDF:Updating IDF to use JtoKWH\n",
      "INFO:Adding CP Values to IDF:Saving original IDF file\n",
      "INFO:Adding CP Values to IDF:Adding wind pressure coefficients array\n",
      "INFO:Adding CP Values to IDF:Vectorizing points from data/Cp.csv\n",
      "INFO:numexpr.utils:Note: NumExpr detected 16 cores but \"NUMEXPR_MAX_THREADS\" not set, so enforcing safe limit of 8.\n",
      "INFO:numexpr.utils:NumExpr defaulting to 8 threads.\n",
      "INFO:Adding CP Values to IDF:Translating points\n",
      "INFO:Adding CP Values to IDF:Building KDTree\n",
      "INFO:Adding CP Values to IDF:Fetching surfaces\n",
      "INFO:Adding CP Values to IDF:Adding CP for fenestration\n"
     ]
    },
    {
     "name": "stdout",
     "output_type": "stream",
     "text": [
      "Number of fenestrations processed: 124/140, Number of null CP values: 0\r"
     ]
    },
    {
     "name": "stderr",
     "output_type": "stream",
     "text": [
      "INFO:Adding CP Values to IDF:Getting surfaces with no node setup\n",
      "INFO:Adding CP Values to IDF:Adding CP for surfaces\n"
     ]
    },
    {
     "name": "stdout",
     "output_type": "stream",
     "text": [
      "Number of surfaces processed: 50/56, Number of null CP values: 0lues: 0\r"
     ]
    },
    {
     "name": "stderr",
     "output_type": "stream",
     "text": [
      "INFO:Adding CP Values to IDF:Setting AirflowNetwork:SimulationControl object to use input wind pressure coefficients\n",
      "INFO:Adding CP Values to IDF:Saving IDF file with CP\n"
     ]
    },
    {
     "name": "stdout",
     "output_type": "stream",
     "text": [
      "Number of surfaces processed: 56/56, Number of null CP values: 0\r"
     ]
    },
    {
     "name": "stderr",
     "output_type": "stream",
     "text": [
      "INFO:Adding CP Values to IDF:Done!\n"
     ]
    }
   ],
   "source": [
    "path_checker(IDF_PATH, IDD_PATH, CP_PATH)\n",
    "logger.info(f'Setting IDD file to {IDD_PATH}')\n",
    "IDF.setiddname(IDD_PATH)    # Setting the IDD file so EPPY knows how to read the IDF file.\n",
    "logger.info(f'Loading IDF file from {IDF_PATH}')\n",
    "idf1 = IDF(IDF_PATH)\n",
    "update_idf_params(idf1)\n",
    "wind_pressure_coefficient_array = add_wind_pressure_coefficients_array(idf1)\n",
    "kdtree, coords_df = vectorize_points()\n",
    "building_objects, fenestration_objects = fetch_surfaces(idf1)\n",
    "add_cp_fenestration(idf1, fenestration_objects, wind_pressure_coefficient_array, kdtree=kdtree, coords_df=coords_df)\n",
    "building_objects_no_external_node_name = get_surface_no_node(idf1,building_objects)\n",
    "add_cp_surfaces(idf1, building_objects_no_external_node_name, wind_pressure_coefficient_array, kdtree=kdtree, coords_df=coords_df)\n",
    "# Set AirflowNetwork:SimulationControl object\n",
    "logger.info('Setting AirflowNetwork:SimulationControl object to use input wind pressure coefficients')\n",
    "idf1.idfobjects['AirflowNetwork:SimulationControl'][0].Wind_Pressure_Coefficient_Type = 'Input'\n",
    "logger.info('Saving IDF file with CP')\n",
    "idf1.saveas('in_with_cp.idf')\n",
    "logger.info('Done!')"
   ]
  }
 ],
 "metadata": {
  "kernelspec": {
   "display_name": "OSMnx",
   "language": "python",
   "name": "python3"
  },
  "language_info": {
   "codemirror_mode": {
    "name": "ipython",
    "version": 3
   },
   "file_extension": ".py",
   "mimetype": "text/x-python",
   "name": "python",
   "nbconvert_exporter": "python",
   "pygments_lexer": "ipython3",
   "version": "3.8.8"
  },
  "orig_nbformat": 4
 },
 "nbformat": 4,
 "nbformat_minor": 2
}
