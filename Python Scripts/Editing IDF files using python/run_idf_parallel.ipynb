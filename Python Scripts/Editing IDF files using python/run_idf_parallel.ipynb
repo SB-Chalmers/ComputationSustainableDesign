{
 "cells": [
  {
   "cell_type": "code",
   "execution_count": null,
   "metadata": {},
   "outputs": [],
   "source": [
    "import os\n",
    "import time\n",
    "from eppy.modeleditor import IDF\n",
    "from eppy.runner.run_functions import runIDFs\n",
    "from tqdm.notebook import tqdm  # Note the change here for Jupyter\n",
    "\n",
    "def make_eplaunch_options(idf):\n",
    "\n",
    "    idfversion = idf.idfobjects['version'][0].Version_Identifier.split('.')\n",
    "    idfversion.extend([0] * (3 - len(idfversion)))\n",
    "    idfversionstr = '-'.join([str(item) for item in idfversion])\n",
    "    fname = idf.idfname\n",
    "    options = {\n",
    "        'ep_version': idfversionstr,\n",
    "        'output_prefix': os.path.basename(fname).split('.')[0],\n",
    "        'output_suffix': 'C',\n",
    "        'output_directory': os.path.dirname(fname),\n",
    "        'readvars': True,\n",
    "        'expandobjects': True\n",
    "    }\n",
    "    return options\n",
    "\n",
    "def main():\n",
    "    iddfile = \"Energy+_22_2_0.idd\"\n",
    "    IDF.setiddname(iddfile)\n",
    "    epwfile = 'USA_CA_San.Francisco.Intl.AP.724940_TMY3.epw'\n",
    "\n",
    "    idf_dir = 'idf'\n",
    "    idf_files = [os.path.join(idf_dir, f) for f in os.listdir(idf_dir) if f.endswith('.idf')]\n",
    "    runs = []\n",
    "\n",
    "    for idfname in idf_files:\n",
    "        print(f\"Processing {idfname}\")\n",
    "        idf = IDF(idfname, epwfile)\n",
    "        theoptions = make_eplaunch_options(idf)\n",
    "        runs.append([idf, theoptions])\n",
    "\n",
    "    # Use all available CPUs\n",
    "    num_CPUs = 4\n",
    "\n",
    "    runIDFs(runs, num_CPUs)\n",
    "\n",
    "if __name__ == '__main__':\n",
    "    main()\n",
    "\n",
    "# This took 7m and 45.2 seconds for 4 idf files on a 4-core machine"
   ]
  },
  {
   "cell_type": "code",
   "execution_count": null,
   "metadata": {},
   "outputs": [],
   "source": [
    "import os\n",
    "import time\n",
    "from eppy.modeleditor import IDF\n",
    "from eppy.runner.run_functions import runIDFs\n",
    "\n",
    "# Creating an idf file and running it using idf_file.run()\n",
    "idf_path = 'idf/a57460b41497.idf'\n",
    "epw_path = 'USA_CA_San.Francisco.Intl.AP.724940_TMY3.epw'\n",
    "iddfile = \"Energy+_22_2_0.idd\"\n",
    "IDF.setiddname(iddfile)\n",
    "idf1 = IDF(idf_path, epw_path)\n",
    "\n",
    "idf1.run() \n",
    "\n",
    "# This took 3m and 45 seconds"
   ]
  }
 ],
 "metadata": {
  "kernelspec": {
   "display_name": "OSMnx",
   "language": "python",
   "name": "python3"
  },
  "language_info": {
   "codemirror_mode": {
    "name": "ipython",
    "version": 3
   },
   "file_extension": ".py",
   "mimetype": "text/x-python",
   "name": "python",
   "nbconvert_exporter": "python",
   "pygments_lexer": "ipython3",
   "version": "3.8.8"
  },
  "orig_nbformat": 4
 },
 "nbformat": 4,
 "nbformat_minor": 2
}
