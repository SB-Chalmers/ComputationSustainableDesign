{
  "cells": [
    {
      "cell_type": "markdown",
      "metadata": {},
      "source": [
        "# GeoJSON to XY\n",
        "\n",
        "Date : 5th April 2023  \n",
        "Author : Sanjay Somanath  \n",
        "Instruction : Click on Runtime above, and then runall (Ctrl + F9)\n",
        "Descripion : This script takes a geojson file containing polygons in a particular CRS (3006 in this script) and given an origin, it will generate a series of x,y coordinates that can be used in a cartesian modelling software such as rhino.\n"
      ]
    },
    {
      "cell_type": "code",
      "execution_count": null,
      "metadata": {
        "colab": {
          "base_uri": "https://localhost:8080/"
        },
        "id": "XAeZKuf3wNcp",
        "outputId": "44bc90f4-f30f-421a-8731-64a7d7f260b4"
      },
      "outputs": [],
      "source": [
        "!pip install geopandas"
      ]
    },
    {
      "cell_type": "code",
      "execution_count": null,
      "metadata": {
        "colab": {
          "base_uri": "https://localhost:8080/"
        },
        "id": "9Nt3-_1BwP-1",
        "outputId": "fdd39425-a2f9-4f57-8150-0998e27d8d3c"
      },
      "outputs": [],
      "source": [
        "!pip install pyproj"
      ]
    },
    {
      "cell_type": "code",
      "execution_count": null,
      "metadata": {
        "colab": {
          "base_uri": "https://localhost:8080/"
        },
        "id": "nrbylIsDvuGD",
        "outputId": "e09608d4-cbbe-4b7c-ee88-a71271f0201b"
      },
      "outputs": [],
      "source": [
        "\n",
        "import geopandas as gpd\n",
        "from pyproj import Transformer\n",
        "import pandas as pd\n",
        "\n",
        "origin_x = 319188.99999999994\n",
        "origin_y = 6396991.000000002\n",
        "\n",
        "# Define the input file path and EPSG code for the output coordinate system\n",
        "input_file = \"option_3.geojson\"\n",
        "output_epsg = 3006\n",
        "\n",
        "# Read the GeoJSON file into a GeoDataFrame\n",
        "gdf = gpd.read_file(input_file)\n",
        "\n",
        "# Reproject the GeoDataFrame to EPSG:3006\n",
        "gdf = gdf.to_crs(f\"EPSG:{output_epsg}\")\n",
        "\n",
        "# Define a function to extract the x and y coordinates from a polygon\n",
        "def get_xy_coords(polygon):\n",
        "    # Extract the x and y coordinates of each point in the polygon\n",
        "    x_coords = [point[0] for point in polygon.exterior.coords]\n",
        "    y_coords = [point[1] for point in polygon.exterior.coords]\n",
        "    # Combine the x and y coordinates into a list of (x, y) tuples\n",
        "    coords = list(zip(x_coords, y_coords))\n",
        "    # Return the list of coordinates\n",
        "    return coords\n",
        "\n",
        "# Apply the function to the geometry column to get a list of coordinates for each polygon\n",
        "coords = gdf.geometry.apply(lambda polygon: get_xy_coords(polygon))\n",
        "# Print the new_coords list\n",
        "for building in coords:\n",
        "    print(building)"
      ]
    },
    {
      "cell_type": "code",
      "execution_count": null,
      "metadata": {
        "colab": {
          "base_uri": "https://localhost:8080/"
        },
        "id": "X4ecJh9e0hgL",
        "outputId": "dfee9978-759c-4efc-be60-b682f8955ad4"
      },
      "outputs": [],
      "source": [
        "# Define a lambda function to subtract origin_x and origin_y from each coordinate tuple\n",
        "subtract_origin = lambda coord: (coord[0] - origin_x, coord[1] - origin_y)\n",
        "\n",
        "# Apply the lambda function to each coordinate tuple in coords using nested list comprehensions\n",
        "new_coords = [[subtract_origin(coord) for coord in building] for building in coords]\n",
        "\n",
        "# Print the new_coords list\n",
        "for building in new_coords:\n",
        "    print(building)"
      ]
    }
  ],
  "metadata": {
    "colab": {
      "provenance": []
    },
    "kernelspec": {
      "display_name": "Python 3",
      "name": "python3"
    },
    "language_info": {
      "name": "python"
    }
  },
  "nbformat": 4,
  "nbformat_minor": 0
}
