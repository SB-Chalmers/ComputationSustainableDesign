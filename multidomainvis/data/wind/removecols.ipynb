{
 "cells": [
  {
   "cell_type": "code",
   "execution_count": 10,
   "metadata": {},
   "outputs": [],
   "source": [
    "from glob import glob\n",
    "import os"
   ]
  },
  {
   "cell_type": "code",
   "execution_count": 7,
   "metadata": {},
   "outputs": [
    {
     "data": {
      "text/plain": [
       "['Option_6/WindroseSurfaceCell.csv',\n",
       " 'Option_2/WindroseSurfaceCell.csv',\n",
       " 'Option_0/WindroseSurfaceCell.csv',\n",
       " 'Option_7/WindroseSurfaceCell.csv',\n",
       " 'Option_1/WindroseSurfaceCell.csv',\n",
       " 'Option_4/WindroseSurfaceCell.csv',\n",
       " 'Option_5/WindroseSurfaceCell.csv',\n",
       " 'Option_3/WindroseSurfaceCell.csv']"
      ]
     },
     "execution_count": 7,
     "metadata": {},
     "output_type": "execute_result"
    }
   ],
   "source": [
    "glob(\"Option_*/WindroseSurfaceCell.csv\")"
   ]
  },
  {
   "cell_type": "code",
   "execution_count": 8,
   "metadata": {},
   "outputs": [],
   "source": [
    "import os"
   ]
  },
  {
   "cell_type": "code",
   "execution_count": 13,
   "metadata": {},
   "outputs": [
    {
     "data": {
      "text/plain": [
       "'Option_6'"
      ]
     },
     "execution_count": 13,
     "metadata": {},
     "output_type": "execute_result"
    }
   ],
   "source": [
    "os.path.dirname('Option_6/WindroseSurfaceCell.csv')"
   ]
  },
  {
   "cell_type": "code",
   "execution_count": 29,
   "metadata": {},
   "outputs": [
    {
     "name": "stdout",
     "output_type": "stream",
     "text": [
      "[['node 1', 'node 2', 'node 3', 'Lawson LDDC'], ['node 1', 'node 2', 'node 3', 'Lawson LDDC'], ['node 1', 'node 2', 'node 3', 'Lawson LDDC'], ['node 1', 'node 2', 'node 3', 'Lawson LDDC'], ['node 1', 'node 2', 'node 3', 'Lawson LDDC'], ['node 1', 'node 2', 'node 3', 'Lawson LDDC'], ['node 1', 'node 2', 'node 3', 'Lawson LDDC'], ['node 1', 'node 2', 'node 3', 'Lawson LDDC']]\n",
      "[3, 3, 3, 3, 3, 3, 3, 3]\n"
     ]
    }
   ],
   "source": [
    "fileReaders = {os.path.dirname(path): open(path) for path in glob(\"Option_*/WindroseSurfaceCell.csv\")}\n",
    "options = sorted(fileReaders.keys())\n",
    "\n",
    "with open('LawsonLDDC.csv', 'w') as fw:\n",
    "    # Write header\n",
    "    fw.write(','.join(options) + '\\n')\n",
    "\n",
    "    headers = [[s.strip() for s in fileReaders[option].readline().split(',')] for option in options]\n",
    "    print(headers)\n",
    "    valIdx = [header.index('Lawson LDDC') for header in headers]\n",
    "    print(valIdx)\n",
    "\n",
    "    # Write rows\n",
    "    while True:\n",
    "        values = []\n",
    "        lines = [fileReaders[option].readline() for option in options]\n",
    "        if not all(lines):\n",
    "            break\n",
    "        values = [line.split(',')[valIdx[i]].strip() for i, line in enumerate(lines)]\n",
    "        fw.write(','.join(values) + '\\n')\n",
    "\n",
    "for f in fileReaders.values():\n",
    "    f.close()"
   ]
  },
  {
   "cell_type": "code",
   "execution_count": 27,
   "metadata": {},
   "outputs": [
    {
     "data": {
      "text/plain": [
       "'Lawson LDDC'"
      ]
     },
     "execution_count": 27,
     "metadata": {},
     "output_type": "execute_result"
    }
   ],
   "source": [
    "'Lawson LDDC\\n'.strip()"
   ]
  },
  {
   "cell_type": "code",
   "execution_count": 23,
   "metadata": {},
   "outputs": [
    {
     "data": {
      "text/plain": [
       "1"
      ]
     },
     "execution_count": 23,
     "metadata": {},
     "output_type": "execute_result"
    }
   ],
   "source": [
    "[1,2,3].index(2)"
   ]
  },
  {
   "cell_type": "code",
   "execution_count": null,
   "metadata": {},
   "outputs": [],
   "source": []
  }
 ],
 "metadata": {
  "kernelspec": {
   "display_name": "Python 3.9.6 ('base')",
   "language": "python",
   "name": "python3"
  },
  "language_info": {
   "codemirror_mode": {
    "name": "ipython",
    "version": 3
   },
   "file_extension": ".py",
   "mimetype": "text/x-python",
   "name": "python",
   "nbconvert_exporter": "python",
   "pygments_lexer": "ipython3",
   "version": "3.9.6"
  },
  "orig_nbformat": 4,
  "vscode": {
   "interpreter": {
    "hash": "4d7c7867966a8166ee283cfecc69f53ebdea2b9918e014bceea220254c526424"
   }
  }
 },
 "nbformat": 4,
 "nbformat_minor": 2
}
